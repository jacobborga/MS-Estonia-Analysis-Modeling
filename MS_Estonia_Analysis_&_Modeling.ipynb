{
  "nbformat": 4,
  "nbformat_minor": 0,
  "metadata": {
    "colab": {
      "name": "MS Estonia Analysis & Modeling.ipynb",
      "provenance": [],
      "collapsed_sections": []
    },
    "kernelspec": {
      "name": "python3",
      "display_name": "Python 3"
    }
  },
  "cells": [
    {
      "cell_type": "markdown",
      "metadata": {
        "id": "UjGMrVoHLpmu",
        "colab_type": "text"
      },
      "source": [
        "##### Import necessary packages"
      ]
    },
    {
      "cell_type": "code",
      "metadata": {
        "id": "GYAyZrllLK2B",
        "colab_type": "code",
        "colab": {}
      },
      "source": [
        "import pandas as pd\n",
        "import numpy as np \n",
        "import warnings\n",
        "warnings.filterwarnings('ignore')"
      ],
      "execution_count": null,
      "outputs": []
    },
    {
      "cell_type": "markdown",
      "metadata": {
        "id": "fgaTUkK_Lffz",
        "colab_type": "text"
      },
      "source": [
        "##### Load ferry passenger data into pandas dataframe and check the head & info."
      ]
    },
    {
      "cell_type": "code",
      "metadata": {
        "id": "SAUCoK9uLMdK",
        "colab_type": "code",
        "colab": {
          "base_uri": "https://localhost:8080/",
          "height": 195
        },
        "outputId": "255f7389-92dc-47aa-fd9a-0571508b2ee0"
      },
      "source": [
        "ferry_data = pd.read_csv('estonia-passenger-list.csv')\n",
        "ferry_data.head()"
      ],
      "execution_count": null,
      "outputs": [
        {
          "output_type": "execute_result",
          "data": {
            "text/html": [
              "<div>\n",
              "<style scoped>\n",
              "    .dataframe tbody tr th:only-of-type {\n",
              "        vertical-align: middle;\n",
              "    }\n",
              "\n",
              "    .dataframe tbody tr th {\n",
              "        vertical-align: top;\n",
              "    }\n",
              "\n",
              "    .dataframe thead th {\n",
              "        text-align: right;\n",
              "    }\n",
              "</style>\n",
              "<table border=\"1\" class=\"dataframe\">\n",
              "  <thead>\n",
              "    <tr style=\"text-align: right;\">\n",
              "      <th></th>\n",
              "      <th>PassengerId</th>\n",
              "      <th>Country</th>\n",
              "      <th>Firstname</th>\n",
              "      <th>Lastname</th>\n",
              "      <th>Sex</th>\n",
              "      <th>Age</th>\n",
              "      <th>Category</th>\n",
              "      <th>Survived</th>\n",
              "    </tr>\n",
              "  </thead>\n",
              "  <tbody>\n",
              "    <tr>\n",
              "      <th>0</th>\n",
              "      <td>1</td>\n",
              "      <td>Sweden</td>\n",
              "      <td>ARVID KALLE</td>\n",
              "      <td>AADLI</td>\n",
              "      <td>M</td>\n",
              "      <td>62</td>\n",
              "      <td>P</td>\n",
              "      <td>0</td>\n",
              "    </tr>\n",
              "    <tr>\n",
              "      <th>1</th>\n",
              "      <td>2</td>\n",
              "      <td>Estonia</td>\n",
              "      <td>LEA</td>\n",
              "      <td>AALISTE</td>\n",
              "      <td>F</td>\n",
              "      <td>22</td>\n",
              "      <td>C</td>\n",
              "      <td>0</td>\n",
              "    </tr>\n",
              "    <tr>\n",
              "      <th>2</th>\n",
              "      <td>3</td>\n",
              "      <td>Estonia</td>\n",
              "      <td>AIRI</td>\n",
              "      <td>AAVASTE</td>\n",
              "      <td>F</td>\n",
              "      <td>21</td>\n",
              "      <td>C</td>\n",
              "      <td>0</td>\n",
              "    </tr>\n",
              "    <tr>\n",
              "      <th>3</th>\n",
              "      <td>4</td>\n",
              "      <td>Sweden</td>\n",
              "      <td>JURI</td>\n",
              "      <td>AAVIK</td>\n",
              "      <td>M</td>\n",
              "      <td>53</td>\n",
              "      <td>C</td>\n",
              "      <td>0</td>\n",
              "    </tr>\n",
              "    <tr>\n",
              "      <th>4</th>\n",
              "      <td>5</td>\n",
              "      <td>Sweden</td>\n",
              "      <td>BRITTA ELISABET</td>\n",
              "      <td>AHLSTROM</td>\n",
              "      <td>F</td>\n",
              "      <td>55</td>\n",
              "      <td>P</td>\n",
              "      <td>0</td>\n",
              "    </tr>\n",
              "  </tbody>\n",
              "</table>\n",
              "</div>"
            ],
            "text/plain": [
              "   PassengerId  Country        Firstname  Lastname Sex  Age Category  Survived\n",
              "0            1   Sweden      ARVID KALLE     AADLI   M   62        P         0\n",
              "1            2  Estonia              LEA   AALISTE   F   22        C         0\n",
              "2            3  Estonia             AIRI   AAVASTE   F   21        C         0\n",
              "3            4   Sweden             JURI     AAVIK   M   53        C         0\n",
              "4            5   Sweden  BRITTA ELISABET  AHLSTROM   F   55        P         0"
            ]
          },
          "metadata": {
            "tags": []
          },
          "execution_count": 2
        }
      ]
    },
    {
      "cell_type": "code",
      "metadata": {
        "id": "p1q3CuDKLXS_",
        "colab_type": "code",
        "colab": {
          "base_uri": "https://localhost:8080/",
          "height": 269
        },
        "outputId": "5d88902c-f2bf-4db4-82a9-36cbdfe15539"
      },
      "source": [
        "ferry_data.info()"
      ],
      "execution_count": null,
      "outputs": [
        {
          "output_type": "stream",
          "text": [
            "<class 'pandas.core.frame.DataFrame'>\n",
            "RangeIndex: 989 entries, 0 to 988\n",
            "Data columns (total 8 columns):\n",
            " #   Column       Non-Null Count  Dtype \n",
            "---  ------       --------------  ----- \n",
            " 0   PassengerId  989 non-null    int64 \n",
            " 1   Country      989 non-null    object\n",
            " 2   Firstname    989 non-null    object\n",
            " 3   Lastname     989 non-null    object\n",
            " 4   Sex          989 non-null    object\n",
            " 5   Age          989 non-null    int64 \n",
            " 6   Category     989 non-null    object\n",
            " 7   Survived     989 non-null    int64 \n",
            "dtypes: int64(3), object(5)\n",
            "memory usage: 61.9+ KB\n"
          ],
          "name": "stdout"
        }
      ]
    },
    {
      "cell_type": "markdown",
      "metadata": {
        "id": "nQ0n-g1zMeZ-",
        "colab_type": "text"
      },
      "source": [
        "**No missing cells within the data, so let's try to extract some more information using visualization with matplotlib and seaborn.**"
      ]
    },
    {
      "cell_type": "markdown",
      "metadata": {
        "id": "41aAFoEmM0pe",
        "colab_type": "text"
      },
      "source": [
        "Questions Regarding the Data:\n",
        "\n",
        "\n",
        "*   Who's more likely to survive the sinking based on data?\n",
        "*   Is age an indicator for survival?\n",
        "*   Is gender an indicator for survival?\n",
        "*   Did the crew aboard have a higher chance of survival than passengers?\n",
        "\n"
      ]
    },
    {
      "cell_type": "code",
      "metadata": {
        "id": "b2mvfrMSMo1p",
        "colab_type": "code",
        "colab": {}
      },
      "source": [
        "import matplotlib as mpl\n",
        "import matplotlib.pyplot as plt \n",
        "import seaborn as sns\n",
        "%matplotlib inline\n",
        "sns.set_style('whitegrid')\n",
        "mpl.rcParams['figure.titlesize'] = 15\n",
        "mpl.rcParams['axes.labelsize'] = 13\n",
        "mpl.rcParams['legend.fontsize'] = 12"
      ],
      "execution_count": null,
      "outputs": []
    },
    {
      "cell_type": "markdown",
      "metadata": {
        "id": "16XwSza5Z1li",
        "colab_type": "text"
      },
      "source": [
        "##### Is Age a Factor in Survival?"
      ]
    },
    {
      "cell_type": "code",
      "metadata": {
        "id": "9ZZ4OVKBMt0e",
        "colab_type": "code",
        "colab": {
          "base_uri": "https://localhost:8080/",
          "height": 473
        },
        "outputId": "edfb95db-7566-4ba9-b193-675471104053"
      },
      "source": [
        "plt.figure(figsize=(16,6))\n",
        "sns.countplot(x='Age',hue='Survived',data=ferry_data)\n",
        "plt.legend(['Died','Survived'],loc='upper right')\n",
        "plt.tight_layout()\n",
        "plt.title('Survived by Age')"
      ],
      "execution_count": null,
      "outputs": [
        {
          "output_type": "execute_result",
          "data": {
            "text/plain": [
              "Text(0.5, 1.0, 'Survived by Age')"
            ]
          },
          "metadata": {
            "tags": []
          },
          "execution_count": 5
        },
        {
          "output_type": "display_data",
          "data": {
            "image/png": "[encoded data removed]",
            "text/plain": [
              "<Figure size 1152x432 with 1 Axes>"
            ]
          },
          "metadata": {
            "tags": []
          }
        }
      ]
    },
    {
      "cell_type": "code",
      "metadata": {
        "id": "hZZFFXu5ONjC",
        "colab_type": "code",
        "colab": {
          "base_uri": "https://localhost:8080/",
          "height": 490
        },
        "outputId": "35f1fa2e-9d14-4fde-dd6e-06d8ce9b3ad6"
      },
      "source": [
        "plt.figure(figsize=(16,6))\n",
        "sns.catplot(x='Survived',y='Age',data=ferry_data, height=6, aspect=2)\n",
        "plt.legend(['Died','Survived'],loc='upper right')\n",
        "plt.tight_layout()\n",
        "plt.title('Survived by Age')"
      ],
      "execution_count": null,
      "outputs": [
        {
          "output_type": "execute_result",
          "data": {
            "text/plain": [
              "Text(0.5, 1.0, 'Survived by Age')"
            ]
          },
          "metadata": {
            "tags": []
          },
          "execution_count": 6
        },
        {
          "output_type": "display_data",
          "data": {
            "text/plain": [
              "<Figure size 1152x432 with 0 Axes>"
            ]
          },
          "metadata": {
            "tags": []
          }
        },
        {
          "output_type": "display_data",
          "data": {
            "image/png": "[encoded data removed]",
            "text/plain": [
              "<Figure size 864x432 with 1 Axes>"
            ]
          },
          "metadata": {
            "tags": []
          }
        }
      ]
    },
    {
      "cell_type": "code",
      "metadata": {
        "id": "Njl0zO1gPWbU",
        "colab_type": "code",
        "colab": {
          "base_uri": "https://localhost:8080/",
          "height": 533
        },
        "outputId": "7127af11-dbf6-44d6-96b7-e71575a22f2d"
      },
      "source": [
        "plt.figure(figsize=(12,8))\n",
        "boxplt = sns.boxplot(x='Survived', y='Age', data=ferry_data)\n",
        "boxplt.annotate('Higher average age for non-survival', (0.5,65), xytext=(0.8, 82), arrowprops=dict(facecolor='black',shrink=0.001), size=14)\n",
        "boxplt.annotate('Lower average age for survival', (1.42, 20), xytext=(1.55,5), arrowprops=dict(facecolor='black',shrink=0.001), size=14)\n",
        "plt.title('Survived by Age')"
      ],
      "execution_count": null,
      "outputs": [
        {
          "output_type": "execute_result",
          "data": {
            "text/plain": [
              "Text(0.5, 1.0, 'Survived by Age')"
            ]
          },
          "metadata": {
            "tags": []
          },
          "execution_count": 7
        },
        {
          "output_type": "display_data",
          "data": {
            "image/png": "[encoded data removed]",
            "text/plain": [
              "<Figure size 864x576 with 1 Axes>"
            ]
          },
          "metadata": {
            "tags": []
          }
        }
      ]
    },
    {
      "cell_type": "code",
      "metadata": {
        "id": "9rExzBrsP5uV",
        "colab_type": "code",
        "colab": {
          "base_uri": "https://localhost:8080/",
          "height": 84
        },
        "outputId": "ff111c31-cbc9-49c9-f3bc-d67732e607c1"
      },
      "source": [
        "from google.colab import output\n",
        "# Grab ages by survived status\n",
        "age_survived = ferry_data[ferry_data['Survived'] == 1]['Age']\n",
        "age_died = ferry_data[ferry_data['Survived'] == 0]['Age']\n",
        "# Print the mean and standard deviation of the ages by survived status\n",
        "print(f\"Mean survived age: {np.mean(age_survived)}\")\n",
        "print(f\"Mean dead age: {np.mean(age_died)}\")\n",
        "print(f\"Standard deviation of survived: {np.std(age_survived)}\")\n",
        "print(f\"Standard deviation of dead: {np.std(age_died)}\")"
      ],
      "execution_count": null,
      "outputs": [
        {
          "output_type": "stream",
          "text": [
            "Mean survived age: 34.01459854014598\n",
            "Mean dead age: 46.27347417840375\n",
            "Standard deviation of survived: 12.112601510401422\n",
            "Standard deviation of dead: 17.322177720532952\n"
          ],
          "name": "stdout"
        }
      ]
    },
    {
      "cell_type": "markdown",
      "metadata": {
        "id": "rOsSW0y-P1jX",
        "colab_type": "text"
      },
      "source": [
        "**Here we got the mean and standard deviation for the survived ages and dead ages.**"
      ]
    },
    {
      "cell_type": "markdown",
      "metadata": {
        "id": "5MZpnn1BTx3f",
        "colab_type": "text"
      },
      "source": [
        "It turns out that younger passengers and crew members had a better probability at survival than the older passengers which can answer whether or not age had a factor in survival."
      ]
    },
    {
      "cell_type": "markdown",
      "metadata": {
        "id": "aJR5lFGgUQFm",
        "colab_type": "text"
      },
      "source": [
        "##### Is Gender a Factor in Survival?"
      ]
    },
    {
      "cell_type": "code",
      "metadata": {
        "id": "vEKezn63Uw-m",
        "colab_type": "code",
        "colab": {
          "base_uri": "https://localhost:8080/",
          "height": 202
        },
        "outputId": "73c6cea8-6067-4ec0-df9f-c1a52f8558e6"
      },
      "source": [
        "# Grab # of male and female passengers, and the # of male and female survived passengers\n",
        "male = ferry_data[ferry_data['Sex'] == 'M'].count()[0]\n",
        "female = ferry_data[ferry_data['Sex'] == 'F'].count()[0]\n",
        "male_survived = ferry_data[(ferry_data['Sex'] == 'M') & (ferry_data['Survived'] == 1)].count()[0]\n",
        "female_survived = ferry_data[(ferry_data['Sex'] == 'F') & (ferry_data['Survived'] == 1)].count()[0]\n",
        "\n",
        "# Print out the ratios of the male and female passengers, and the ratios for the male and female survived passengers\n",
        "print(f\"Male Passengers: {male}\\nFemale Passengers: {female}\\n\")\n",
        "print(f\"Male to Female Ratio: {male/female:0.4f}\")\n",
        "print(f\"Female to Male Ratio: {female/male:0.4f}\\n\")\n",
        "print(f\"Men to Female Survived Ratio: {(male_survived / female_survived)*100:0.4f}%\")\n",
        "print(f\"Female to Male Survived Ratio: {(female_survived / male_survived)*100:0.4f}%\\n\")\n",
        "print(f\"Male to Male Survived Ratio: {(male_survived/male)*100:0.4f}%\")\n",
        "print(f\"Female to Female Survived Ratio: {(female_survived/female)*100:0.4f}%\")"
      ],
      "execution_count": null,
      "outputs": [
        {
          "output_type": "stream",
          "text": [
            "Male Passengers: 503\n",
            "Female Passengers: 486\n",
            "\n",
            "Male to Female Ratio: 1.0350\n",
            "Female to Male Ratio: 0.9662\n",
            "\n",
            "Men to Female Survived Ratio: 407.4074%\n",
            "Female to Male Survived Ratio: 24.5455%\n",
            "\n",
            "Male to Male Survived Ratio: 21.8688%\n",
            "Female to Female Survived Ratio: 5.5556%\n"
          ],
          "name": "stdout"
        }
      ]
    },
    {
      "cell_type": "code",
      "metadata": {
        "id": "XBqx9qx5UYSe",
        "colab_type": "code",
        "colab": {
          "base_uri": "https://localhost:8080/",
          "height": 424
        },
        "outputId": "b6492dda-bb54-4cba-fd22-4e51dba08073"
      },
      "source": [
        "plt.figure(figsize=(12,6))\n",
        "cp = sns.countplot(x='Survived',hue='Sex',data=ferry_data)\n",
        "cp.set_ybound(upper=200)\n",
        "cp.set_xticklabels(['Died','Survived'])\n",
        "cp.annotate('5.5556% Female Survival Ratio', (1.20,29), xytext=(1.52,70), arrowprops=dict(facecolor='black', shrink=0.006), size=14)\n",
        "cp.annotate('21.8688% Male Survival Ratio', (1.03, 105), xytext=(1.52, 125), arrowprops=dict(facecolor='black', shrink=0.006), size=14)\n",
        "plt.legend(['Male','Female'])\n",
        "plt.title('Survived by Sex')"
      ],
      "execution_count": null,
      "outputs": [
        {
          "output_type": "execute_result",
          "data": {
            "text/plain": [
              "Text(0.5, 1.0, 'Survived by Sex')"
            ]
          },
          "metadata": {
            "tags": []
          },
          "execution_count": 10
        },
        {
          "output_type": "display_data",
          "data": {
            "image/png": "[encoded data removed]",
            "text/plain": [
              "<Figure size 864x432 with 1 Axes>"
            ]
          },
          "metadata": {
            "tags": []
          }
        }
      ]
    },
    {
      "cell_type": "markdown",
      "metadata": {
        "id": "oKoGTjpfYvxa",
        "colab_type": "text"
      },
      "source": [
        "There is quite the difference between males and females in terms of survival rates on the MS Estonia. Males had a **21.8688%** survival rate, while females had a **5.5556%** survival rate. This was a starking **16.3132%** difference for survival rates based on gender. So after this analysis, I can confidently say that gender did have a factor on survival based on the differences in survival rates."
      ]
    },
    {
      "cell_type": "markdown",
      "metadata": {
        "id": "qRpC-TGuZ5cx",
        "colab_type": "text"
      },
      "source": [
        "##### Did the Crew have an Inherit Edge to Survival?"
      ]
    },
    {
      "cell_type": "code",
      "metadata": {
        "id": "6tgFeuFMfCKu",
        "colab_type": "code",
        "colab": {
          "base_uri": "https://localhost:8080/",
          "height": 50
        },
        "outputId": "27d1e645-c836-48ff-88ad-6bd8a367acb9"
      },
      "source": [
        "crew = ferry_data[ferry_data['Category'] == 'C'].count()[0]\n",
        "passengers = ferry_data[ferry_data['Category'] == 'P'].count()[0]\n",
        "crew_survived = ferry_data[(ferry_data['Category'] == 'C') & (ferry_data['Survived'] == 1)].count()[0]\n",
        "passengers_survived = ferry_data[(ferry_data['Category'] == 'C') & (ferry_data['Survived'] == 1)].count()[0]\n",
        "\n",
        "print(f\"Passengers per (1) Crew Member: {passengers/crew:0.4f}\")\n",
        "print(f\"Survived Passengers per (1) Crew Member: {passengers_survived/crew_survived:0.4f}\")"
      ],
      "execution_count": null,
      "outputs": [
        {
          "output_type": "stream",
          "text": [
            "Passengers per (1) Crew Member: 4.1244\n",
            "Survived Passengers per (1) Crew Member: 1.0000\n"
          ],
          "name": "stdout"
        }
      ]
    },
    {
      "cell_type": "markdown",
      "metadata": {
        "id": "Dl3obz2RgVu3",
        "colab_type": "text"
      },
      "source": [
        "There seems to be a huge difference in ratios when comparing the passengers and the survived group. Crew members had a 4x better chance at surviving compared to passengers."
      ]
    },
    {
      "cell_type": "code",
      "metadata": {
        "id": "dTY2N1UAaGcO",
        "colab_type": "code",
        "colab": {
          "base_uri": "https://localhost:8080/",
          "height": 408
        },
        "outputId": "41124b0e-2c14-4429-df54-0874893d3112"
      },
      "source": [
        "plt.figure(figsize=(12,6))\n",
        "cp = sns.countplot(x='Survived',hue='Category',data=ferry_data)\n",
        "cp.set_xticklabels(['Dead','Survived'])\n",
        "cp.annotate('Nearly half of survived is crew!', xy=(1.4,25), xytext=(1.62,75), arrowprops=dict(facecolor='black',shrink=0.001), size=14)\n",
        "plt.legend(['Passengers','Crew'])"
      ],
      "execution_count": null,
      "outputs": [
        {
          "output_type": "execute_result",
          "data": {
            "text/plain": [
              "<matplotlib.legend.Legend at 0x7fa006940208>"
            ]
          },
          "metadata": {
            "tags": []
          },
          "execution_count": 12
        },
        {
          "output_type": "display_data",
          "data": {
            "image/png": "[encoded data removed]",
            "text/plain": [
              "<Figure size 864x432 with 1 Axes>"
            ]
          },
          "metadata": {
            "tags": []
          }
        }
      ]
    },
    {
      "cell_type": "markdown",
      "metadata": {
        "id": "ZYC5zZKVpDJf",
        "colab_type": "text"
      },
      "source": [
        "In conclusion, surviving passengers and crew members were on average 12 years younger than the average age of the remaining. Gender also plays a huge role, with a 15% advantage in survival rates for males (21.86% for males, 5.55% for females). Lastly the difference in survival rates was significant for crew members and passengers. Crew members had a 4x higher chance at survival than passengers. The original ratio of passengers to crew members was ~4. After the incident, the surviving ratio was 1:1, which means passengers took a 75% cut since 1/4 (if 1 is crew and 4 is passengers)."
      ]
    },
    {
      "cell_type": "markdown",
      "metadata": {
        "id": "GtGet2B3rMt0",
        "colab_type": "text"
      },
      "source": [
        "##### Missing Data?"
      ]
    },
    {
      "cell_type": "markdown",
      "metadata": {
        "id": "oLDyrk6mrQ0B",
        "colab_type": "text"
      },
      "source": [
        "**No missing data in this dataset!**"
      ]
    },
    {
      "cell_type": "markdown",
      "metadata": {
        "id": "SZEkxh8vLv7o",
        "colab_type": "text"
      },
      "source": [
        "##### Grab all object and numerical series and separate them for encoding."
      ]
    },
    {
      "cell_type": "code",
      "metadata": {
        "id": "u2yajwAOMKJW",
        "colab_type": "code",
        "colab": {}
      },
      "source": [
        "objects = ferry_data.select_dtypes(include=['object'])\n",
        "numerical = ferry_data.select_dtypes(exclude=['object'])"
      ],
      "execution_count": null,
      "outputs": []
    },
    {
      "cell_type": "code",
      "metadata": {
        "id": "TgzPV0UAMXVY",
        "colab_type": "code",
        "colab": {}
      },
      "source": [
        "numerical.drop('PassengerId',axis=1,inplace=True)"
      ],
      "execution_count": null,
      "outputs": []
    },
    {
      "cell_type": "code",
      "metadata": {
        "id": "pOyw7yubr-rh",
        "colab_type": "code",
        "colab": {}
      },
      "source": [
        "objects.drop(['Firstname','Lastname'],axis=1,inplace=True)"
      ],
      "execution_count": null,
      "outputs": []
    },
    {
      "cell_type": "code",
      "metadata": {
        "id": "XJaoLlZQMYRk",
        "colab_type": "code",
        "colab": {
          "base_uri": "https://localhost:8080/",
          "height": 168
        },
        "outputId": "d6018353-2120-4753-e283-738baf1ccf85"
      },
      "source": [
        "numerical.info()"
      ],
      "execution_count": null,
      "outputs": [
        {
          "output_type": "stream",
          "text": [
            "<class 'pandas.core.frame.DataFrame'>\n",
            "RangeIndex: 989 entries, 0 to 988\n",
            "Data columns (total 2 columns):\n",
            " #   Column    Non-Null Count  Dtype\n",
            "---  ------    --------------  -----\n",
            " 0   Age       989 non-null    int64\n",
            " 1   Survived  989 non-null    int64\n",
            "dtypes: int64(2)\n",
            "memory usage: 15.6 KB\n"
          ],
          "name": "stdout"
        }
      ]
    },
    {
      "cell_type": "code",
      "metadata": {
        "id": "JB4u5IsaMbXz",
        "colab_type": "code",
        "colab": {
          "base_uri": "https://localhost:8080/",
          "height": 185
        },
        "outputId": "bc096a90-6968-4b66-868f-27c42ad4738a"
      },
      "source": [
        "objects.info()"
      ],
      "execution_count": null,
      "outputs": [
        {
          "output_type": "stream",
          "text": [
            "<class 'pandas.core.frame.DataFrame'>\n",
            "RangeIndex: 989 entries, 0 to 988\n",
            "Data columns (total 3 columns):\n",
            " #   Column    Non-Null Count  Dtype \n",
            "---  ------    --------------  ----- \n",
            " 0   Country   989 non-null    object\n",
            " 1   Sex       989 non-null    object\n",
            " 2   Category  989 non-null    object\n",
            "dtypes: object(3)\n",
            "memory usage: 23.3+ KB\n"
          ],
          "name": "stdout"
        }
      ]
    },
    {
      "cell_type": "code",
      "metadata": {
        "id": "ryBAa9o0rz4r",
        "colab_type": "code",
        "colab": {}
      },
      "source": [
        "sex = pd.get_dummies(objects['Sex'],drop_first=True)\n",
        "category = pd.get_dummies(objects['Category'],drop_first=True)"
      ],
      "execution_count": null,
      "outputs": []
    },
    {
      "cell_type": "code",
      "metadata": {
        "id": "JGKAjwWAsVkj",
        "colab_type": "code",
        "colab": {
          "base_uri": "https://localhost:8080/",
          "height": 84
        },
        "outputId": "54671623-2fbd-414b-954c-466ef5ed969f"
      },
      "source": [
        "objects['Country'].unique()"
      ],
      "execution_count": null,
      "outputs": [
        {
          "output_type": "execute_result",
          "data": {
            "text/plain": [
              "array(['Sweden', 'Estonia', 'Latvia', 'Russia', 'Germany', 'Finland',\n",
              "       'Great Britain', 'Morocco', 'Denmark', 'France', 'Netherlands',\n",
              "       'Norway', 'Lithuania', 'Nigeria', 'Canada', 'Belarus'],\n",
              "      dtype=object)"
            ]
          },
          "metadata": {
            "tags": []
          },
          "execution_count": 19
        }
      ]
    },
    {
      "cell_type": "code",
      "metadata": {
        "id": "r9sNs778s2Ex",
        "colab_type": "code",
        "colab": {}
      },
      "source": [
        "objects.drop('Country',axis=1,inplace=True)\n",
        "objects = pd.concat([sex, category], axis=1)\n",
        "objects = objects.rename({'M':'Male','P':'Passengers'},axis=1)"
      ],
      "execution_count": null,
      "outputs": []
    },
    {
      "cell_type": "code",
      "metadata": {
        "id": "Q8CYnthit7Hi",
        "colab_type": "code",
        "colab": {}
      },
      "source": [
        "X = pd.concat([objects,numerical.drop('Survived',axis=1)],axis=1)\n",
        "y = numerical['Survived']"
      ],
      "execution_count": null,
      "outputs": []
    },
    {
      "cell_type": "code",
      "metadata": {
        "id": "4RwDkm-2uYhM",
        "colab_type": "code",
        "colab": {
          "base_uri": "https://localhost:8080/",
          "height": 195
        },
        "outputId": "e01b51e7-d5b3-4a0b-d61f-d7603d35c370"
      },
      "source": [
        "X.head()"
      ],
      "execution_count": null,
      "outputs": [
        {
          "output_type": "execute_result",
          "data": {
            "text/html": [
              "<div>\n",
              "<style scoped>\n",
              "    .dataframe tbody tr th:only-of-type {\n",
              "        vertical-align: middle;\n",
              "    }\n",
              "\n",
              "    .dataframe tbody tr th {\n",
              "        vertical-align: top;\n",
              "    }\n",
              "\n",
              "    .dataframe thead th {\n",
              "        text-align: right;\n",
              "    }\n",
              "</style>\n",
              "<table border=\"1\" class=\"dataframe\">\n",
              "  <thead>\n",
              "    <tr style=\"text-align: right;\">\n",
              "      <th></th>\n",
              "      <th>Male</th>\n",
              "      <th>Passengers</th>\n",
              "      <th>Age</th>\n",
              "    </tr>\n",
              "  </thead>\n",
              "  <tbody>\n",
              "    <tr>\n",
              "      <th>0</th>\n",
              "      <td>1</td>\n",
              "      <td>1</td>\n",
              "      <td>62</td>\n",
              "    </tr>\n",
              "    <tr>\n",
              "      <th>1</th>\n",
              "      <td>0</td>\n",
              "      <td>0</td>\n",
              "      <td>22</td>\n",
              "    </tr>\n",
              "    <tr>\n",
              "      <th>2</th>\n",
              "      <td>0</td>\n",
              "      <td>0</td>\n",
              "      <td>21</td>\n",
              "    </tr>\n",
              "    <tr>\n",
              "      <th>3</th>\n",
              "      <td>1</td>\n",
              "      <td>0</td>\n",
              "      <td>53</td>\n",
              "    </tr>\n",
              "    <tr>\n",
              "      <th>4</th>\n",
              "      <td>0</td>\n",
              "      <td>1</td>\n",
              "      <td>55</td>\n",
              "    </tr>\n",
              "  </tbody>\n",
              "</table>\n",
              "</div>"
            ],
            "text/plain": [
              "   Male  Passengers  Age\n",
              "0     1           1   62\n",
              "1     0           0   22\n",
              "2     0           0   21\n",
              "3     1           0   53\n",
              "4     0           1   55"
            ]
          },
          "metadata": {
            "tags": []
          },
          "execution_count": 22
        }
      ]
    },
    {
      "cell_type": "code",
      "metadata": {
        "id": "JSMDDDqduZWi",
        "colab_type": "code",
        "colab": {
          "base_uri": "https://localhost:8080/",
          "height": 218
        },
        "outputId": "40bc387f-bb9b-4df5-af2d-6ca436ab2b9e"
      },
      "source": [
        "y"
      ],
      "execution_count": null,
      "outputs": [
        {
          "output_type": "execute_result",
          "data": {
            "text/plain": [
              "0      0\n",
              "1      0\n",
              "2      0\n",
              "3      0\n",
              "4      0\n",
              "      ..\n",
              "984    0\n",
              "985    1\n",
              "986    0\n",
              "987    0\n",
              "988    1\n",
              "Name: Survived, Length: 989, dtype: int64"
            ]
          },
          "metadata": {
            "tags": []
          },
          "execution_count": 23
        }
      ]
    },
    {
      "cell_type": "code",
      "metadata": {
        "id": "MvlpVCUWugsB",
        "colab_type": "code",
        "colab": {
          "base_uri": "https://localhost:8080/",
          "height": 185
        },
        "outputId": "eb3a6b74-ee36-40b1-80b7-9cf131990582"
      },
      "source": [
        "X.info()"
      ],
      "execution_count": null,
      "outputs": [
        {
          "output_type": "stream",
          "text": [
            "<class 'pandas.core.frame.DataFrame'>\n",
            "RangeIndex: 989 entries, 0 to 988\n",
            "Data columns (total 3 columns):\n",
            " #   Column      Non-Null Count  Dtype\n",
            "---  ------      --------------  -----\n",
            " 0   Male        989 non-null    uint8\n",
            " 1   Passengers  989 non-null    uint8\n",
            " 2   Age         989 non-null    int64\n",
            "dtypes: int64(1), uint8(2)\n",
            "memory usage: 9.8 KB\n"
          ],
          "name": "stdout"
        }
      ]
    },
    {
      "cell_type": "markdown",
      "metadata": {
        "id": "gcZUUm76utaJ",
        "colab_type": "text"
      },
      "source": [
        "Now we have to split out data into training and testing sets. We can do this using sklearns train_test_split, which does the shuffling and splitting we need."
      ]
    },
    {
      "cell_type": "code",
      "metadata": {
        "id": "wjKE1VWtul1G",
        "colab_type": "code",
        "colab": {}
      },
      "source": [
        "from sklearn.model_selection import train_test_split"
      ],
      "execution_count": null,
      "outputs": []
    },
    {
      "cell_type": "code",
      "metadata": {
        "id": "Ut4WGTG1u2VM",
        "colab_type": "code",
        "colab": {}
      },
      "source": [
        "X_train, X_test, y_train, y_test = train_test_split(X, y, test_size=0.2, random_state=2)"
      ],
      "execution_count": null,
      "outputs": []
    },
    {
      "cell_type": "markdown",
      "metadata": {
        "id": "2Kk08VSfvAA-",
        "colab_type": "text"
      },
      "source": [
        "Now that we have our data ready for modeling, let's create different models to find the best accuracy!"
      ]
    },
    {
      "cell_type": "code",
      "metadata": {
        "id": "imQbD_tqvUON",
        "colab_type": "code",
        "colab": {}
      },
      "source": [
        "from sklearn.metrics import classification_report, confusion_matrix, accuracy_score"
      ],
      "execution_count": null,
      "outputs": []
    },
    {
      "cell_type": "markdown",
      "metadata": {
        "id": "v70RCrxnvHr2",
        "colab_type": "text"
      },
      "source": [
        "#### Logistic Regression"
      ]
    },
    {
      "cell_type": "markdown",
      "metadata": {
        "id": "7mLMqMPOv1Uo",
        "colab_type": "text"
      },
      "source": [
        "For our first model, we will use no scaling to get a base representation of our data through logistic modeling."
      ]
    },
    {
      "cell_type": "code",
      "metadata": {
        "id": "EYrFZbj9u6gU",
        "colab_type": "code",
        "colab": {}
      },
      "source": [
        "from sklearn.linear_model import LogisticRegression\n",
        "from sklearn.model_selection import GridSearchCV"
      ],
      "execution_count": null,
      "outputs": []
    },
    {
      "cell_type": "code",
      "metadata": {
        "id": "C4rMfZqdvN2H",
        "colab_type": "code",
        "colab": {
          "base_uri": "https://localhost:8080/",
          "height": 319
        },
        "outputId": "eb8e211b-bdc9-41ed-f178-e8659d8857df"
      },
      "source": [
        "model = LogisticRegression()\n",
        "model.fit(X_train, y_train)\n",
        "predictions = model.predict(X_test)\n",
        "print(f\"Classification Report: \\n\\n{classification_report(y_test, predictions)}\\n\\nConfusion Matrix: \\n\\n{confusion_matrix(y_test,predictions)}\\n\\nAccuracy: {accuracy_score(y_test,predictions)*100:0.5f}%\")"
      ],
      "execution_count": null,
      "outputs": [
        {
          "output_type": "stream",
          "text": [
            "Classification Report: \n",
            "\n",
            "              precision    recall  f1-score   support\n",
            "\n",
            "           0       0.88      0.98      0.93       175\n",
            "           1       0.00      0.00      0.00        23\n",
            "\n",
            "    accuracy                           0.86       198\n",
            "   macro avg       0.44      0.49      0.46       198\n",
            "weighted avg       0.78      0.86      0.82       198\n",
            "\n",
            "\n",
            "Confusion Matrix: \n",
            "\n",
            "[[171   4]\n",
            " [ 23   0]]\n",
            "\n",
            "Accuracy: 86.36364%\n"
          ],
          "name": "stdout"
        }
      ]
    },
    {
      "cell_type": "markdown",
      "metadata": {
        "id": "HkbArvCswGTI",
        "colab_type": "text"
      },
      "source": [
        "86.36% accuracy is not bad! Let's see if we can get a better score with a GridSearch."
      ]
    },
    {
      "cell_type": "code",
      "metadata": {
        "id": "RaD4zYyvvj0J",
        "colab_type": "code",
        "colab": {}
      },
      "source": [
        "params = {'intercept_scaling':[0.1]}\n",
        "grid = GridSearchCV(LogisticRegression(C=1, tol=0.1, solver='saga', n_jobs=-1, max_iter=2000),params,n_jobs=-1)"
      ],
      "execution_count": null,
      "outputs": []
    },
    {
      "cell_type": "code",
      "metadata": {
        "id": "Px7zaoSawwv4",
        "colab_type": "code",
        "colab": {
          "base_uri": "https://localhost:8080/",
          "height": 218
        },
        "outputId": "0fe200e4-c901-49a4-f937-8ea145183b0f"
      },
      "source": [
        "grid.fit(X_train, y_train)"
      ],
      "execution_count": null,
      "outputs": [
        {
          "output_type": "execute_result",
          "data": {
            "text/plain": [
              "GridSearchCV(cv=None, error_score=nan,\n",
              "             estimator=LogisticRegression(C=1, class_weight=None, dual=False,\n",
              "                                          fit_intercept=True,\n",
              "                                          intercept_scaling=1, l1_ratio=None,\n",
              "                                          max_iter=2000, multi_class='auto',\n",
              "                                          n_jobs=-1, penalty='l2',\n",
              "                                          random_state=None, solver='saga',\n",
              "                                          tol=0.1, verbose=0,\n",
              "                                          warm_start=False),\n",
              "             iid='deprecated', n_jobs=-1,\n",
              "             param_grid={'intercept_scaling': [0.1]}, pre_dispatch='2*n_jobs',\n",
              "             refit=True, return_train_score=False, scoring=None, verbose=0)"
            ]
          },
          "metadata": {
            "tags": []
          },
          "execution_count": 31
        }
      ]
    },
    {
      "cell_type": "code",
      "metadata": {
        "id": "KOLUgvozwy-3",
        "colab_type": "code",
        "colab": {
          "base_uri": "https://localhost:8080/",
          "height": 101
        },
        "outputId": "aeace10a-b843-476a-8152-9cdcc6cfc79d"
      },
      "source": [
        "grid.best_estimator_"
      ],
      "execution_count": null,
      "outputs": [
        {
          "output_type": "execute_result",
          "data": {
            "text/plain": [
              "LogisticRegression(C=1, class_weight=None, dual=False, fit_intercept=True,\n",
              "                   intercept_scaling=0.1, l1_ratio=None, max_iter=2000,\n",
              "                   multi_class='auto', n_jobs=-1, penalty='l2',\n",
              "                   random_state=None, solver='saga', tol=0.1, verbose=0,\n",
              "                   warm_start=False)"
            ]
          },
          "metadata": {
            "tags": []
          },
          "execution_count": 32
        }
      ]
    },
    {
      "cell_type": "code",
      "metadata": {
        "id": "9OeEF5nQx62K",
        "colab_type": "code",
        "colab": {
          "base_uri": "https://localhost:8080/",
          "height": 34
        },
        "outputId": "d305e432-de6e-41bd-f6c4-6b7c567c7499"
      },
      "source": [
        "grid.best_score_"
      ],
      "execution_count": null,
      "outputs": [
        {
          "output_type": "execute_result",
          "data": {
            "text/plain": [
              "0.8546134861874055"
            ]
          },
          "metadata": {
            "tags": []
          },
          "execution_count": 33
        }
      ]
    },
    {
      "cell_type": "code",
      "metadata": {
        "id": "VlOF3BTiyAgc",
        "colab_type": "code",
        "colab": {}
      },
      "source": [
        "predictions = grid.predict(X_test)"
      ],
      "execution_count": null,
      "outputs": []
    },
    {
      "cell_type": "code",
      "metadata": {
        "id": "6Nd6RmuO0wUS",
        "colab_type": "code",
        "colab": {
          "base_uri": "https://localhost:8080/",
          "height": 319
        },
        "outputId": "81771449-7a83-4f7f-eadc-63040857d989"
      },
      "source": [
        "print(f\"Classification Report: \\n\\n{classification_report(y_test, predictions)}\\n\\nConfusion Matrix: \\n\\n{confusion_matrix(y_test,predictions)}\\n\\nAccuracy: {accuracy_score(y_test,predictions)*100:0.5f}%\")"
      ],
      "execution_count": null,
      "outputs": [
        {
          "output_type": "stream",
          "text": [
            "Classification Report: \n",
            "\n",
            "              precision    recall  f1-score   support\n",
            "\n",
            "           0       0.88      1.00      0.94       175\n",
            "           1       0.00      0.00      0.00        23\n",
            "\n",
            "    accuracy                           0.88       198\n",
            "   macro avg       0.44      0.50      0.47       198\n",
            "weighted avg       0.78      0.88      0.83       198\n",
            "\n",
            "\n",
            "Confusion Matrix: \n",
            "\n",
            "[[175   0]\n",
            " [ 23   0]]\n",
            "\n",
            "Accuracy: 88.38384%\n"
          ],
          "name": "stdout"
        }
      ]
    },
    {
      "cell_type": "markdown",
      "metadata": {
        "id": "pJowpHV22CaC",
        "colab_type": "text"
      },
      "source": [
        "88.38384% accuracy with a GridSearch with our data on a logistic model! This is a 2% improvement. Next, let's scale the data and run it through our GridSearch to see if we gain any more accuracy."
      ]
    },
    {
      "cell_type": "code",
      "metadata": {
        "id": "_H6gAwTH0yrF",
        "colab_type": "code",
        "colab": {}
      },
      "source": [
        "from sklearn.preprocessing import StandardScaler"
      ],
      "execution_count": null,
      "outputs": []
    },
    {
      "cell_type": "code",
      "metadata": {
        "id": "HuV9xzEO2VBv",
        "colab_type": "code",
        "colab": {}
      },
      "source": [
        "scaler = StandardScaler()"
      ],
      "execution_count": null,
      "outputs": []
    },
    {
      "cell_type": "code",
      "metadata": {
        "id": "Z829ABIg2WFd",
        "colab_type": "code",
        "colab": {}
      },
      "source": [
        "x_train = scaler.fit_transform(X_train)\n",
        "x_test = scaler.fit_transform(X_test)"
      ],
      "execution_count": null,
      "outputs": []
    },
    {
      "cell_type": "code",
      "metadata": {
        "id": "1Jva0xbo2ydO",
        "colab_type": "code",
        "colab": {}
      },
      "source": [
        "params = {'C':[1,5,10,15,20], 'tol':[0.1,0.01,0.001], 'solver':['newton-cg','saga','lbfgs'], 'penalty':['none','l2']}\n",
        "grid = GridSearchCV(LogisticRegression(n_jobs=-1,max_iter=2000),params,n_jobs=-1)"
      ],
      "execution_count": null,
      "outputs": []
    },
    {
      "cell_type": "code",
      "metadata": {
        "id": "q4zFAbj82Zzs",
        "colab_type": "code",
        "colab": {
          "base_uri": "https://localhost:8080/",
          "height": 269
        },
        "outputId": "01ca1417-57b0-43c9-e784-65120f5d4a3c"
      },
      "source": [
        "grid.fit(x_train, y_train)"
      ],
      "execution_count": null,
      "outputs": [
        {
          "output_type": "execute_result",
          "data": {
            "text/plain": [
              "GridSearchCV(cv=None, error_score=nan,\n",
              "             estimator=LogisticRegression(C=1.0, class_weight=None, dual=False,\n",
              "                                          fit_intercept=True,\n",
              "                                          intercept_scaling=1, l1_ratio=None,\n",
              "                                          max_iter=2000, multi_class='auto',\n",
              "                                          n_jobs=-1, penalty='l2',\n",
              "                                          random_state=None, solver='lbfgs',\n",
              "                                          tol=0.0001, verbose=0,\n",
              "                                          warm_start=False),\n",
              "             iid='deprecated', n_jobs=-1,\n",
              "             param_grid={'C': [1, 5, 10, 15, 20], 'penalty': ['none', 'l2'],\n",
              "                         'solver': ['newton-cg', 'saga', 'lbfgs'],\n",
              "                         'tol': [0.1, 0.01, 0.001]},\n",
              "             pre_dispatch='2*n_jobs', refit=True, return_train_score=False,\n",
              "             scoring=None, verbose=0)"
            ]
          },
          "metadata": {
            "tags": []
          },
          "execution_count": 40
        }
      ]
    },
    {
      "cell_type": "code",
      "metadata": {
        "id": "MjVD6Btp2nWo",
        "colab_type": "code",
        "colab": {
          "base_uri": "https://localhost:8080/",
          "height": 101
        },
        "outputId": "55092006-6136-4cea-e458-ca251ccf2ad6"
      },
      "source": [
        "grid.best_estimator_"
      ],
      "execution_count": null,
      "outputs": [
        {
          "output_type": "execute_result",
          "data": {
            "text/plain": [
              "LogisticRegression(C=1, class_weight=None, dual=False, fit_intercept=True,\n",
              "                   intercept_scaling=1, l1_ratio=None, max_iter=2000,\n",
              "                   multi_class='auto', n_jobs=-1, penalty='l2',\n",
              "                   random_state=None, solver='saga', tol=0.1, verbose=0,\n",
              "                   warm_start=False)"
            ]
          },
          "metadata": {
            "tags": []
          },
          "execution_count": 41
        }
      ]
    },
    {
      "cell_type": "code",
      "metadata": {
        "id": "yhndubTl2tjQ",
        "colab_type": "code",
        "colab": {
          "base_uri": "https://localhost:8080/",
          "height": 34
        },
        "outputId": "f15c969a-2dd0-4298-becc-9817e24da28c"
      },
      "source": [
        "grid.best_score_"
      ],
      "execution_count": null,
      "outputs": [
        {
          "output_type": "execute_result",
          "data": {
            "text/plain": [
              "0.8495661173473449"
            ]
          },
          "metadata": {
            "tags": []
          },
          "execution_count": 42
        }
      ]
    },
    {
      "cell_type": "code",
      "metadata": {
        "id": "WkJdmbaQ2us8",
        "colab_type": "code",
        "colab": {}
      },
      "source": [
        "predictions = grid.predict(x_test)"
      ],
      "execution_count": null,
      "outputs": []
    },
    {
      "cell_type": "code",
      "metadata": {
        "id": "CCk5sTcz3v3y",
        "colab_type": "code",
        "colab": {
          "base_uri": "https://localhost:8080/",
          "height": 319
        },
        "outputId": "77e26423-e1b9-4c5b-93d2-4ecb4d631e46"
      },
      "source": [
        "print(f\"Classification Report: \\n\\n{classification_report(y_test, predictions)}\\n\\nConfusion Matrix: \\n\\n{confusion_matrix(y_test,predictions)}\\n\\nAccuracy: {accuracy_score(y_test,predictions)*100:0.5f}%\")"
      ],
      "execution_count": null,
      "outputs": [
        {
          "output_type": "stream",
          "text": [
            "Classification Report: \n",
            "\n",
            "              precision    recall  f1-score   support\n",
            "\n",
            "           0       0.88      0.98      0.93       175\n",
            "           1       0.00      0.00      0.00        23\n",
            "\n",
            "    accuracy                           0.86       198\n",
            "   macro avg       0.44      0.49      0.46       198\n",
            "weighted avg       0.78      0.86      0.82       198\n",
            "\n",
            "\n",
            "Confusion Matrix: \n",
            "\n",
            "[[171   4]\n",
            " [ 23   0]]\n",
            "\n",
            "Accuracy: 86.36364%\n"
          ],
          "name": "stdout"
        }
      ]
    },
    {
      "cell_type": "markdown",
      "metadata": {
        "id": "ePxYE1kY3y-s",
        "colab_type": "text"
      },
      "source": [
        "Overall we ended up doing the best with no scaling, and a param grid with logistic regression."
      ]
    },
    {
      "cell_type": "markdown",
      "metadata": {
        "id": "am3G7fTG37Li",
        "colab_type": "text"
      },
      "source": [
        "#### Naive Bayes Models"
      ]
    },
    {
      "cell_type": "markdown",
      "metadata": {
        "id": "0xkI0ArS4Wip",
        "colab_type": "text"
      },
      "source": [
        "First we are going to start with a class, the Gaussian Naive Bayes algorithm."
      ]
    },
    {
      "cell_type": "code",
      "metadata": {
        "id": "h--knWmT4Vjj",
        "colab_type": "code",
        "colab": {}
      },
      "source": [
        "from sklearn.naive_bayes import GaussianNB"
      ],
      "execution_count": null,
      "outputs": []
    },
    {
      "cell_type": "code",
      "metadata": {
        "id": "qnTHq3804hDW",
        "colab_type": "code",
        "colab": {}
      },
      "source": [
        "gnb = GaussianNB()\n",
        "predictions = gnb.fit(X_train, y_train).predict(X_test)"
      ],
      "execution_count": null,
      "outputs": []
    },
    {
      "cell_type": "code",
      "metadata": {
        "id": "_D7yxCPq4pmL",
        "colab_type": "code",
        "colab": {
          "base_uri": "https://localhost:8080/",
          "height": 319
        },
        "outputId": "f2e7325d-2200-45c5-dcd7-326ee7021f1c"
      },
      "source": [
        "print(f\"Classification Report: \\n\\n{classification_report(y_test, predictions)}\\n\\nConfusion Matrix: \\n\\n{confusion_matrix(y_test,predictions)}\\n\\nAccuracy: {accuracy_score(y_test,predictions)*100:0.5f}%\")"
      ],
      "execution_count": null,
      "outputs": [
        {
          "output_type": "stream",
          "text": [
            "Classification Report: \n",
            "\n",
            "              precision    recall  f1-score   support\n",
            "\n",
            "           0       0.89      0.95      0.92       175\n",
            "           1       0.25      0.13      0.17        23\n",
            "\n",
            "    accuracy                           0.85       198\n",
            "   macro avg       0.57      0.54      0.55       198\n",
            "weighted avg       0.82      0.85      0.83       198\n",
            "\n",
            "\n",
            "Confusion Matrix: \n",
            "\n",
            "[[166   9]\n",
            " [ 20   3]]\n",
            "\n",
            "Accuracy: 85.35354%\n"
          ],
          "name": "stdout"
        }
      ]
    },
    {
      "cell_type": "markdown",
      "metadata": {
        "id": "3xm5YC5R56DU",
        "colab_type": "text"
      },
      "source": [
        "#### Support Vector Machines (SVM)"
      ]
    },
    {
      "cell_type": "code",
      "metadata": {
        "id": "RZp6ZyFd636i",
        "colab_type": "code",
        "colab": {}
      },
      "source": [
        "from sklearn.preprocessing import MinMaxScaler"
      ],
      "execution_count": null,
      "outputs": []
    },
    {
      "cell_type": "code",
      "metadata": {
        "id": "bXOxXZpkK17k",
        "colab_type": "code",
        "colab": {}
      },
      "source": [
        "scaler = MinMaxScaler()\n",
        "y = y.to_numpy()\n",
        "y = y.reshape(-1, 1)\n",
        "y = pd.DataFrame(y)\n",
        "scaled_X = scaler.fit_transform(X)\n",
        "scaled_y = scaler.fit_transform(y)"
      ],
      "execution_count": null,
      "outputs": []
    },
    {
      "cell_type": "code",
      "metadata": {
        "id": "-9WJyjmNLCh1",
        "colab_type": "code",
        "colab": {}
      },
      "source": [
        "from sklearn.svm import SVC"
      ],
      "execution_count": null,
      "outputs": []
    },
    {
      "cell_type": "code",
      "metadata": {
        "id": "lMsFGpW8LcQp",
        "colab_type": "code",
        "colab": {}
      },
      "source": [
        "X_train, X_test, y_train, y_test = train_test_split(scaled_X, scaled_y, test_size=0.2, random_state=2)"
      ],
      "execution_count": null,
      "outputs": []
    },
    {
      "cell_type": "code",
      "metadata": {
        "id": "t7JCZLKQL-tj",
        "colab_type": "code",
        "colab": {}
      },
      "source": [
        "svc = SVC()\n",
        "svc.fit(X_train, y_train)\n",
        "predictions = svc.predict(X_test)"
      ],
      "execution_count": null,
      "outputs": []
    },
    {
      "cell_type": "code",
      "metadata": {
        "id": "RsKMRoQPMB4R",
        "colab_type": "code",
        "colab": {
          "base_uri": "https://localhost:8080/",
          "height": 319
        },
        "outputId": "57664e68-8b62-49df-ab09-95440f593678"
      },
      "source": [
        "print(f\"Classification Report: \\n\\n{classification_report(y_test, predictions)}\\n\\nConfusion Matrix: \\n\\n{confusion_matrix(y_test,predictions)}\\n\\nAccuracy: {accuracy_score(y_test,predictions)*100:0.5f}%\")"
      ],
      "execution_count": null,
      "outputs": [
        {
          "output_type": "stream",
          "text": [
            "Classification Report: \n",
            "\n",
            "              precision    recall  f1-score   support\n",
            "\n",
            "         0.0       0.88      1.00      0.94       175\n",
            "         1.0       0.00      0.00      0.00        23\n",
            "\n",
            "    accuracy                           0.88       198\n",
            "   macro avg       0.44      0.50      0.47       198\n",
            "weighted avg       0.78      0.88      0.83       198\n",
            "\n",
            "\n",
            "Confusion Matrix: \n",
            "\n",
            "[[175   0]\n",
            " [ 23   0]]\n",
            "\n",
            "Accuracy: 88.38384%\n"
          ],
          "name": "stdout"
        }
      ]
    },
    {
      "cell_type": "code",
      "metadata": {
        "id": "2coD5DZgMEFe",
        "colab_type": "code",
        "colab": {}
      },
      "source": [
        "params = {'C':[1,10,15,20], 'degree':[3,5,7,9], 'kernel':['sigmoid','rbf']}"
      ],
      "execution_count": null,
      "outputs": []
    },
    {
      "cell_type": "code",
      "metadata": {
        "id": "WJre-lXWMcU4",
        "colab_type": "code",
        "colab": {
          "base_uri": "https://localhost:8080/",
          "height": 218
        },
        "outputId": "30515cc9-98ac-4044-b3ac-2913d6f8f74d"
      },
      "source": [
        "grid = GridSearchCV(SVC(), params, n_jobs=-1)\n",
        "grid.fit(X_train, y_train)"
      ],
      "execution_count": null,
      "outputs": [
        {
          "output_type": "execute_result",
          "data": {
            "text/plain": [
              "GridSearchCV(cv=None, error_score=nan,\n",
              "             estimator=SVC(C=1.0, break_ties=False, cache_size=200,\n",
              "                           class_weight=None, coef0=0.0,\n",
              "                           decision_function_shape='ovr', degree=3,\n",
              "                           gamma='scale', kernel='rbf', max_iter=-1,\n",
              "                           probability=False, random_state=None, shrinking=True,\n",
              "                           tol=0.001, verbose=False),\n",
              "             iid='deprecated', n_jobs=-1,\n",
              "             param_grid={'C': [1, 10, 15, 20], 'degree': [3, 5, 7, 9],\n",
              "                         'kernel': ['sigmoid', 'rbf']},\n",
              "             pre_dispatch='2*n_jobs', refit=True, return_train_score=False,\n",
              "             scoring=None, verbose=0)"
            ]
          },
          "metadata": {
            "tags": []
          },
          "execution_count": 70
        }
      ]
    },
    {
      "cell_type": "code",
      "metadata": {
        "id": "Yt8jLNnbMi90",
        "colab_type": "code",
        "colab": {
          "base_uri": "https://localhost:8080/",
          "height": 84
        },
        "outputId": "ad30846f-b37a-4a80-a272-8cec901570e5"
      },
      "source": [
        "grid.best_estimator_"
      ],
      "execution_count": null,
      "outputs": [
        {
          "output_type": "execute_result",
          "data": {
            "text/plain": [
              "SVC(C=1, break_ties=False, cache_size=200, class_weight=None, coef0=0.0,\n",
              "    decision_function_shape='ovr', degree=3, gamma='scale', kernel='rbf',\n",
              "    max_iter=-1, probability=False, random_state=None, shrinking=True,\n",
              "    tol=0.001, verbose=False)"
            ]
          },
          "metadata": {
            "tags": []
          },
          "execution_count": 71
        }
      ]
    },
    {
      "cell_type": "code",
      "metadata": {
        "id": "c7Ezqrb3M8eN",
        "colab_type": "code",
        "colab": {
          "base_uri": "https://localhost:8080/",
          "height": 34
        },
        "outputId": "1fdadee5-e1d1-4daa-9b37-2b34638c01aa"
      },
      "source": [
        "grid.best_score_"
      ],
      "execution_count": null,
      "outputs": [
        {
          "output_type": "execute_result",
          "data": {
            "text/plain": [
              "0.8558793089722156"
            ]
          },
          "metadata": {
            "tags": []
          },
          "execution_count": 72
        }
      ]
    },
    {
      "cell_type": "code",
      "metadata": {
        "id": "RaXk_yV2O1Jy",
        "colab_type": "code",
        "colab": {}
      },
      "source": [
        "predictions = grid.predict(X_test)"
      ],
      "execution_count": null,
      "outputs": []
    },
    {
      "cell_type": "code",
      "metadata": {
        "id": "VSXNUmBVO6kj",
        "colab_type": "code",
        "colab": {
          "base_uri": "https://localhost:8080/",
          "height": 319
        },
        "outputId": "5fbb41e9-91b5-4b7c-d9cc-2a10058302b5"
      },
      "source": [
        "print(f\"Classification Report: \\n\\n{classification_report(y_test, predictions)}\\n\\nConfusion Matrix: \\n\\n{confusion_matrix(y_test,predictions)}\\n\\nAccuracy: {accuracy_score(y_test,predictions)*100:0.5f}%\")"
      ],
      "execution_count": null,
      "outputs": [
        {
          "output_type": "stream",
          "text": [
            "Classification Report: \n",
            "\n",
            "              precision    recall  f1-score   support\n",
            "\n",
            "         0.0       0.88      1.00      0.94       175\n",
            "         1.0       0.00      0.00      0.00        23\n",
            "\n",
            "    accuracy                           0.88       198\n",
            "   macro avg       0.44      0.50      0.47       198\n",
            "weighted avg       0.78      0.88      0.83       198\n",
            "\n",
            "\n",
            "Confusion Matrix: \n",
            "\n",
            "[[175   0]\n",
            " [ 23   0]]\n",
            "\n",
            "Accuracy: 88.38384%\n"
          ],
          "name": "stdout"
        }
      ]
    },
    {
      "cell_type": "code",
      "metadata": {
        "id": "ut0PoYAsO8_W",
        "colab_type": "code",
        "colab": {}
      },
      "source": [
        ""
      ],
      "execution_count": null,
      "outputs": []
    }
  ]
}